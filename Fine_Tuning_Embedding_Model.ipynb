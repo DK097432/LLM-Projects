{
 "cells": [
  {
   "metadata": {
    "ExecuteTime": {
     "end_time": "2025-10-30T10:21:31.374445Z",
     "start_time": "2025-10-30T10:21:24.438475Z"
    }
   },
   "cell_type": "code",
   "source": [
    "from datasets import load_dataset\n",
    "from sentence_transformers import (\n",
    "SentenceTransformer,\n",
    "SentenceTransformerTrainer,\n",
    "SentenceTransformerTrainingArguments\n",
    ")\n",
    "from sentence_transformers.losses import MultipleNegativesRankingLoss\n",
    "from sentence_transformers.training_args import BatchSamplers\n",
    "from sentence_transformers.evaluation import TripletEvaluator\n",
    "\n"
   ],
   "id": "b5e79fde4ade083c",
   "outputs": [
    {
     "name": "stderr",
     "output_type": "stream",
     "text": [
      "The cache for model files in Transformers v4.22.0 has been updated. Migrating your old cache. This is a one-time only operation. You can interrupt this and resume the migration later on by calling `transformers.utils.move_cache()`.\n"
     ]
    },
    {
     "data": {
      "text/plain": [
       "0it [00:00, ?it/s]"
      ],
      "application/vnd.jupyter.widget-view+json": {
       "version_major": 2,
       "version_minor": 0,
       "model_id": "0916179f186e457b8ea74e2bdeeea7bf"
      }
     },
     "metadata": {},
     "output_type": "display_data",
     "jetTransient": {
      "display_id": null
     }
    }
   ],
   "execution_count": 1
  },
  {
   "metadata": {
    "ExecuteTime": {
     "end_time": "2025-10-30T10:21:52.689815Z",
     "start_time": "2025-10-30T10:21:44.611107Z"
    }
   },
   "cell_type": "code",
   "source": [
    "checkpoint = 'sentence-transformers/all-distilroberta-v1'\n",
    "model = SentenceTransformer(checkpoint)"
   ],
   "id": "14e108b7ddc3d4e3",
   "outputs": [
    {
     "name": "stderr",
     "output_type": "stream",
     "text": [
      "c:\\Users\\Dawood Khan\\anaconda3\\envs\\llm\\lib\\site-packages\\transformers\\tokenization_utils_base.py:1601: FutureWarning: `clean_up_tokenization_spaces` was not set. It will be set to `True` by default. This behavior will be depracted in transformers v4.45, and will be then set to `False` by default. For more details check this issue: https://github.com/huggingface/transformers/issues/31884\n",
      "  warnings.warn(\n"
     ]
    }
   ],
   "execution_count": 2
  },
  {
   "metadata": {
    "ExecuteTime": {
     "end_time": "2025-10-30T10:21:57.218770Z",
     "start_time": "2025-10-30T10:21:52.700817Z"
    }
   },
   "cell_type": "code",
   "source": "dataset = load_dataset(\"shawhin/ai-job-embedding-finetuning\")",
   "id": "efb627994768e21c",
   "outputs": [],
   "execution_count": 3
  },
  {
   "metadata": {
    "ExecuteTime": {
     "end_time": "2025-10-30T10:21:57.250183Z",
     "start_time": "2025-10-30T10:21:57.245557Z"
    }
   },
   "cell_type": "code",
   "source": "print(dataset)",
   "id": "e10446903f6a8bd",
   "outputs": [
    {
     "name": "stdout",
     "output_type": "stream",
     "text": [
      "DatasetDict({\n",
      "    train: Dataset({\n",
      "        features: ['query', 'job_description_pos', 'job_description_neg'],\n",
      "        num_rows: 809\n",
      "    })\n",
      "    validation: Dataset({\n",
      "        features: ['query', 'job_description_pos', 'job_description_neg'],\n",
      "        num_rows: 101\n",
      "    })\n",
      "    test: Dataset({\n",
      "        features: ['query', 'job_description_pos', 'job_description_neg'],\n",
      "        num_rows: 102\n",
      "    })\n",
      "})\n"
     ]
    }
   ],
   "execution_count": 4
  },
  {
   "metadata": {},
   "cell_type": "markdown",
   "source": "# Checking untrained Model",
   "id": "ace689ab709db8ea"
  },
  {
   "metadata": {
    "ExecuteTime": {
     "end_time": "2025-10-30T10:21:59.407255Z",
     "start_time": "2025-10-30T10:21:57.285594Z"
    }
   },
   "cell_type": "code",
   "source": [
    "evaluater_valid = TripletEvaluator(\n",
    "    anchors=dataset['validation']['query'],\n",
    "    positives=dataset['validation']['job_description_pos'],\n",
    "    negatives=dataset['validation']['job_description_neg'],\n",
    "    name = 'si-job-validation'\n",
    ")\n",
    "evaluater_valid(model)"
   ],
   "id": "62d12d4f2809aeb9",
   "outputs": [
    {
     "data": {
      "text/plain": [
       "{'si-job-validation_cosine_accuracy': 0.8811880946159363}"
      ]
     },
     "execution_count": 5,
     "metadata": {},
     "output_type": "execute_result"
    }
   ],
   "execution_count": 5
  },
  {
   "metadata": {},
   "cell_type": "markdown",
   "source": "Define Loss Function",
   "id": "dae2fb8a285f68b8"
  },
  {
   "metadata": {
    "ExecuteTime": {
     "end_time": "2025-10-30T10:21:59.453256Z",
     "start_time": "2025-10-30T10:21:59.449254Z"
    }
   },
   "cell_type": "code",
   "source": "loss = MultipleNegativesRankingLoss(model)",
   "id": "d4499fa9c36dfda5",
   "outputs": [],
   "execution_count": 6
  },
  {
   "metadata": {},
   "cell_type": "markdown",
   "source": "Defining Training Args",
   "id": "7234fdfa54a79260"
  },
  {
   "metadata": {
    "ExecuteTime": {
     "end_time": "2025-10-30T10:21:59.548256Z",
     "start_time": "2025-10-30T10:21:59.460254Z"
    }
   },
   "cell_type": "code",
   "source": [
    "num_epochs = 1\n",
    "batch_size= 16\n",
    "learning_rate= 2e-5\n",
    "FT_model_name = 'Job-Embedding-Fine-Tuned-distilroberta-v2'\n",
    "training_args = SentenceTransformerTrainingArguments(\n",
    "    output_dir = f'Fine_Tuned/{FT_model_name}',\n",
    "    num_train_epochs = num_epochs,\n",
    "    per_device_train_batch_size = batch_size,\n",
    "    per_device_eval_batch_size = batch_size,\n",
    "    learning_rate = learning_rate,\n",
    "    warmup_ratio=0.1,\n",
    "    batch_sampler=BatchSamplers.NO_DUPLICATES,\n",
    "    eval_strategy='steps',\n",
    "    eval_steps=100,\n",
    "    logging_steps=100,\n",
    ")"
   ],
   "id": "d17af950ccb3485f",
   "outputs": [],
   "execution_count": 7
  },
  {
   "metadata": {},
   "cell_type": "markdown",
   "source": "# Now Fine Tune the Model",
   "id": "9a952ed7ae30e297"
  },
  {
   "metadata": {
    "ExecuteTime": {
     "end_time": "2025-10-30T10:26:32.683047Z",
     "start_time": "2025-10-30T10:22:14.092375Z"
    }
   },
   "cell_type": "code",
   "source": [
    "%time\n",
    "trainer = SentenceTransformerTrainer(\n",
    "    model = model,\n",
    "    args=training_args,\n",
    "    train_dataset=dataset['train'],\n",
    "    eval_dataset=dataset['validation'],\n",
    "    loss= loss,\n",
    "    evaluator=evaluater_valid,\n",
    ")\n",
    "trainer.train()"
   ],
   "id": "547a5f9ff8f7f37e",
   "outputs": [
    {
     "name": "stdout",
     "output_type": "stream",
     "text": [
      "CPU times: total: 0 ns\n",
      "Wall time: 0 ns\n"
     ]
    },
    {
     "data": {
      "text/plain": [
       "Computing widget examples:   0%|          | 0/1 [00:00<?, ?example/s]"
      ],
      "application/vnd.jupyter.widget-view+json": {
       "version_major": 2,
       "version_minor": 0,
       "model_id": "248a1732a96241d1afa57188d6d814a9"
      }
     },
     "metadata": {},
     "output_type": "display_data",
     "jetTransient": {
      "display_id": null
     }
    },
    {
     "data": {
      "text/plain": [
       "<IPython.core.display.HTML object>"
      ],
      "text/html": [
       "\n",
       "    <div>\n",
       "      \n",
       "      <progress value='51' max='51' style='width:300px; height:20px; vertical-align: middle;'></progress>\n",
       "      [51/51 04:07, Epoch 1/1]\n",
       "    </div>\n",
       "    <table border=\"1\" class=\"dataframe\">\n",
       "  <thead>\n",
       " <tr style=\"text-align: left;\">\n",
       "      <th>Step</th>\n",
       "      <th>Training Loss</th>\n",
       "      <th>Validation Loss</th>\n",
       "    </tr>\n",
       "  </thead>\n",
       "  <tbody>\n",
       "  </tbody>\n",
       "</table><p>"
      ]
     },
     "metadata": {},
     "output_type": "display_data",
     "jetTransient": {
      "display_id": "e5bc8b39c0a23576bc0f6a996f1eab00"
     }
    },
    {
     "data": {
      "text/plain": [
       "TrainOutput(global_step=51, training_loss=0.8848036971746707, metrics={'train_runtime': 255.4748, 'train_samples_per_second': 3.167, 'train_steps_per_second': 0.2, 'total_flos': 0.0, 'train_loss': 0.8848036971746707, 'epoch': 1.0})"
      ]
     },
     "execution_count": 9,
     "metadata": {},
     "output_type": "execute_result"
    }
   ],
   "execution_count": 9
  },
  {
   "metadata": {
    "ExecuteTime": {
     "end_time": "2025-10-30T10:28:35.507093Z",
     "start_time": "2025-10-30T10:28:23.899818Z"
    }
   },
   "cell_type": "code",
   "source": [
    "evaluater_test = TripletEvaluator(\n",
    "    anchors=dataset['test']['query'],\n",
    "    positives=dataset['test']['job_description_pos'],\n",
    "    negatives=dataset['test']['job_description_neg'],\n",
    "    name = 'si-job-test'\n",
    ")\n",
    "print('Validation: ', evaluater_valid(model))\n",
    "print('Test: ', evaluater_test(model))"
   ],
   "id": "e81d5c3a4f9a746e",
   "outputs": [
    {
     "name": "stdout",
     "output_type": "stream",
     "text": [
      "Validation:  {'si-job-validation_cosine_accuracy': 0.9900990128517151}\n",
      "Test:  {'si-job-test_cosine_accuracy': 1.0}\n"
     ]
    }
   ],
   "execution_count": 10
  },
  {
   "metadata": {
    "ExecuteTime": {
     "end_time": "2025-10-30T10:29:49.700916Z",
     "start_time": "2025-10-30T10:29:49.682308Z"
    }
   },
   "cell_type": "code",
   "source": [
    "from huggingface_hub import notebook_login\n",
    "notebook_login()"
   ],
   "id": "87c1985159a72b60",
   "outputs": [
    {
     "data": {
      "text/plain": [
       "VBox(children=(HTML(value='<center> <img\\nsrc=https://huggingface.co/front/assets/huggingface_logo-noborder.sv…"
      ],
      "application/vnd.jupyter.widget-view+json": {
       "version_major": 2,
       "version_minor": 0,
       "model_id": "ed68b677033140ce9e8c4720c388d081"
      }
     },
     "metadata": {},
     "output_type": "display_data",
     "jetTransient": {
      "display_id": null
     }
    }
   ],
   "execution_count": 12
  },
  {
   "metadata": {},
   "cell_type": "code",
   "outputs": [],
   "execution_count": null,
   "source": "model.push_to_hub(f'dawoodk/{FT_model_name}')",
   "id": "9331170daa2bb071"
  }
 ],
 "metadata": {
  "kernelspec": {
   "display_name": "Python 3",
   "language": "python",
   "name": "python3"
  },
  "language_info": {
   "codemirror_mode": {
    "name": "ipython",
    "version": 2
   },
   "file_extension": ".py",
   "mimetype": "text/x-python",
   "name": "python",
   "nbconvert_exporter": "python",
   "pygments_lexer": "ipython2",
   "version": "2.7.6"
  }
 },
 "nbformat": 4,
 "nbformat_minor": 5
}
