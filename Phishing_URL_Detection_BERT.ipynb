{
 "cells": [
  {
   "cell_type": "code",
   "id": "initial_id",
   "metadata": {
    "collapsed": true,
    "ExecuteTime": {
     "end_time": "2025-10-28T19:47:15.994922Z",
     "start_time": "2025-10-28T19:47:06.465967Z"
    }
   },
   "source": [
    "from anyio.lowlevel import checkpoint\n",
    "from datasets import load_dataset\n",
    "from transformers import AutoTokenizer, AutoModelForSequenceClassification, TrainingArguments, Trainer\n",
    "import evaluate\n",
    "import numpy as np\n",
    "from transformers import DataCollatorWithPadding\n",
    "\n",
    "from Pytorch.CNN import learning_rate"
   ],
   "outputs": [],
   "execution_count": 1
  },
  {
   "metadata": {
    "ExecuteTime": {
     "end_time": "2025-10-28T19:48:27.522620Z",
     "start_time": "2025-10-28T19:48:09.976319Z"
    }
   },
   "cell_type": "code",
   "source": "dataset= load_dataset('shawhin/phishing-site-classification')",
   "id": "effd4171be65137b",
   "outputs": [
    {
     "data": {
      "text/plain": [
       "README.md: 0.00B [00:00, ?B/s]"
      ],
      "application/vnd.jupyter.widget-view+json": {
       "version_major": 2,
       "version_minor": 0,
       "model_id": "0dd62cab377e4dcc80ee49667fa87181"
      }
     },
     "metadata": {},
     "output_type": "display_data",
     "jetTransient": {
      "display_id": null
     }
    },
    {
     "name": "stderr",
     "output_type": "stream",
     "text": [
      "c:\\Users\\Dawood Khan\\anaconda3\\envs\\llm\\lib\\site-packages\\huggingface_hub\\file_download.py:143: UserWarning: `huggingface_hub` cache-system uses symlinks by default to efficiently store duplicated files but your machine does not support them in C:\\Users\\Dawood Khan\\.cache\\huggingface\\hub\\datasets--shawhin--phishing-site-classification. Caching files will still work but in a degraded version that might require more space on your disk. This warning can be disabled by setting the `HF_HUB_DISABLE_SYMLINKS_WARNING` environment variable. For more details, see https://huggingface.co/docs/huggingface_hub/how-to-cache#limitations.\n",
      "To support symlinks on Windows, you either need to activate Developer Mode or to run Python as an administrator. In order to activate developer mode, see this article: https://docs.microsoft.com/en-us/windows/apps/get-started/enable-your-device-for-development\n",
      "  warnings.warn(message)\n"
     ]
    },
    {
     "data": {
      "text/plain": [
       "data/train-00000-of-00001.parquet:   0%|          | 0.00/98.0k [00:00<?, ?B/s]"
      ],
      "application/vnd.jupyter.widget-view+json": {
       "version_major": 2,
       "version_minor": 0,
       "model_id": "02e9608bd2794a29b28eb7b527e5bfeb"
      }
     },
     "metadata": {},
     "output_type": "display_data",
     "jetTransient": {
      "display_id": null
     }
    },
    {
     "data": {
      "text/plain": [
       "data/validation-00000-of-00001.parquet:   0%|          | 0.00/21.4k [00:00<?, ?B/s]"
      ],
      "application/vnd.jupyter.widget-view+json": {
       "version_major": 2,
       "version_minor": 0,
       "model_id": "13295900b9d04490a8a08e0d995f48e6"
      }
     },
     "metadata": {},
     "output_type": "display_data",
     "jetTransient": {
      "display_id": null
     }
    },
    {
     "data": {
      "text/plain": [
       "data/test-00000-of-00001.parquet:   0%|          | 0.00/24.5k [00:00<?, ?B/s]"
      ],
      "application/vnd.jupyter.widget-view+json": {
       "version_major": 2,
       "version_minor": 0,
       "model_id": "e92a0a16d69e4179bcae5c524fb648c7"
      }
     },
     "metadata": {},
     "output_type": "display_data",
     "jetTransient": {
      "display_id": null
     }
    },
    {
     "data": {
      "text/plain": [
       "Generating train split:   0%|          | 0/2100 [00:00<?, ? examples/s]"
      ],
      "application/vnd.jupyter.widget-view+json": {
       "version_major": 2,
       "version_minor": 0,
       "model_id": "494c3167083147aca9461fdc28212630"
      }
     },
     "metadata": {},
     "output_type": "display_data",
     "jetTransient": {
      "display_id": null
     }
    },
    {
     "data": {
      "text/plain": [
       "Generating validation split:   0%|          | 0/450 [00:00<?, ? examples/s]"
      ],
      "application/vnd.jupyter.widget-view+json": {
       "version_major": 2,
       "version_minor": 0,
       "model_id": "be810e79603d4e22a11cc38e57200908"
      }
     },
     "metadata": {},
     "output_type": "display_data",
     "jetTransient": {
      "display_id": null
     }
    },
    {
     "data": {
      "text/plain": [
       "Generating test split:   0%|          | 0/450 [00:00<?, ? examples/s]"
      ],
      "application/vnd.jupyter.widget-view+json": {
       "version_major": 2,
       "version_minor": 0,
       "model_id": "2c64cd372dc04190bebf9da03df75b8d"
      }
     },
     "metadata": {},
     "output_type": "display_data",
     "jetTransient": {
      "display_id": null
     }
    }
   ],
   "execution_count": 3
  },
  {
   "metadata": {
    "ExecuteTime": {
     "end_time": "2025-10-28T19:48:30.219319Z",
     "start_time": "2025-10-28T19:48:30.214173Z"
    }
   },
   "cell_type": "code",
   "source": "dataset",
   "id": "33cc10f799e0d3ed",
   "outputs": [
    {
     "data": {
      "text/plain": [
       "DatasetDict({\n",
       "    train: Dataset({\n",
       "        features: ['text', 'labels'],\n",
       "        num_rows: 2100\n",
       "    })\n",
       "    validation: Dataset({\n",
       "        features: ['text', 'labels'],\n",
       "        num_rows: 450\n",
       "    })\n",
       "    test: Dataset({\n",
       "        features: ['text', 'labels'],\n",
       "        num_rows: 450\n",
       "    })\n",
       "})"
      ]
     },
     "execution_count": 4,
     "metadata": {},
     "output_type": "execute_result"
    }
   ],
   "execution_count": 4
  },
  {
   "metadata": {
    "ExecuteTime": {
     "end_time": "2025-10-28T19:49:21.612669Z",
     "start_time": "2025-10-28T19:49:17.518060Z"
    }
   },
   "cell_type": "code",
   "source": [
    "checkpoint='google-bert/bert-base-uncased'\n",
    "tokenizer = AutoTokenizer.from_pretrained(checkpoint)"
   ],
   "id": "15fcc53e4cbe08d4",
   "outputs": [
    {
     "data": {
      "text/plain": [
       "tokenizer_config.json:   0%|          | 0.00/48.0 [00:00<?, ?B/s]"
      ],
      "application/vnd.jupyter.widget-view+json": {
       "version_major": 2,
       "version_minor": 0,
       "model_id": "758cd4e35aa644f08653e25cdfd76870"
      }
     },
     "metadata": {},
     "output_type": "display_data",
     "jetTransient": {
      "display_id": null
     }
    },
    {
     "name": "stderr",
     "output_type": "stream",
     "text": [
      "c:\\Users\\Dawood Khan\\anaconda3\\envs\\llm\\lib\\site-packages\\huggingface_hub\\file_download.py:143: UserWarning: `huggingface_hub` cache-system uses symlinks by default to efficiently store duplicated files but your machine does not support them in C:\\Users\\Dawood Khan\\.cache\\huggingface\\hub\\models--google-bert--bert-base-uncased. Caching files will still work but in a degraded version that might require more space on your disk. This warning can be disabled by setting the `HF_HUB_DISABLE_SYMLINKS_WARNING` environment variable. For more details, see https://huggingface.co/docs/huggingface_hub/how-to-cache#limitations.\n",
      "To support symlinks on Windows, you either need to activate Developer Mode or to run Python as an administrator. In order to activate developer mode, see this article: https://docs.microsoft.com/en-us/windows/apps/get-started/enable-your-device-for-development\n",
      "  warnings.warn(message)\n"
     ]
    },
    {
     "data": {
      "text/plain": [
       "vocab.txt: 0.00B [00:00, ?B/s]"
      ],
      "application/vnd.jupyter.widget-view+json": {
       "version_major": 2,
       "version_minor": 0,
       "model_id": "5097007ef9eb4c09badcce4f0be8de8c"
      }
     },
     "metadata": {},
     "output_type": "display_data",
     "jetTransient": {
      "display_id": null
     }
    },
    {
     "data": {
      "text/plain": [
       "tokenizer.json: 0.00B [00:00, ?B/s]"
      ],
      "application/vnd.jupyter.widget-view+json": {
       "version_major": 2,
       "version_minor": 0,
       "model_id": "f23739ec625f4a34bfb2df8122f10509"
      }
     },
     "metadata": {},
     "output_type": "display_data",
     "jetTransient": {
      "display_id": null
     }
    }
   ],
   "execution_count": 5
  },
  {
   "metadata": {
    "ExecuteTime": {
     "end_time": "2025-10-28T19:54:56.872841Z",
     "start_time": "2025-10-28T19:50:13.945719Z"
    }
   },
   "cell_type": "code",
   "source": [
    "id2label = {0:'Safe', 1:'Not Safe'}\n",
    "label2id = {'Safe':0, 'Not Safe':1}\n",
    "model = AutoModelForSequenceClassification.from_pretrained(checkpoint,\n",
    "                                                           num_labels=2,\n",
    "                                                           id2label=id2label,\n",
    "                                                           label2id=label2id)"
   ],
   "id": "dc0df669c4334008",
   "outputs": [
    {
     "data": {
      "text/plain": [
       "model.safetensors:   0%|          | 0.00/440M [00:00<?, ?B/s]"
      ],
      "application/vnd.jupyter.widget-view+json": {
       "version_major": 2,
       "version_minor": 0,
       "model_id": "b877c19cb90b454594c17a55a58a9f4a"
      }
     },
     "metadata": {},
     "output_type": "display_data",
     "jetTransient": {
      "display_id": null
     }
    },
    {
     "name": "stderr",
     "output_type": "stream",
     "text": [
      "Some weights of BertForSequenceClassification were not initialized from the model checkpoint at google-bert/bert-base-uncased and are newly initialized: ['classifier.bias', 'classifier.weight']\n",
      "You should probably TRAIN this model on a down-stream task to be able to use it for predictions and inference.\n"
     ]
    }
   ],
   "execution_count": 6
  },
  {
   "metadata": {
    "ExecuteTime": {
     "end_time": "2025-10-28T19:56:19.816838Z",
     "start_time": "2025-10-28T19:56:19.807835Z"
    }
   },
   "cell_type": "code",
   "source": [
    "for name, param in model.base_model.named_parameters():\n",
    "    print(name, param.requires_grad)"
   ],
   "id": "155d2ff7b74cf206",
   "outputs": [
    {
     "name": "stdout",
     "output_type": "stream",
     "text": [
      "embeddings.word_embeddings.weight True\n",
      "embeddings.position_embeddings.weight True\n",
      "embeddings.token_type_embeddings.weight True\n",
      "embeddings.LayerNorm.weight True\n",
      "embeddings.LayerNorm.bias True\n",
      "encoder.layer.0.attention.self.query.weight True\n",
      "encoder.layer.0.attention.self.query.bias True\n",
      "encoder.layer.0.attention.self.key.weight True\n",
      "encoder.layer.0.attention.self.key.bias True\n",
      "encoder.layer.0.attention.self.value.weight True\n",
      "encoder.layer.0.attention.self.value.bias True\n",
      "encoder.layer.0.attention.output.dense.weight True\n",
      "encoder.layer.0.attention.output.dense.bias True\n",
      "encoder.layer.0.attention.output.LayerNorm.weight True\n",
      "encoder.layer.0.attention.output.LayerNorm.bias True\n",
      "encoder.layer.0.intermediate.dense.weight True\n",
      "encoder.layer.0.intermediate.dense.bias True\n",
      "encoder.layer.0.output.dense.weight True\n",
      "encoder.layer.0.output.dense.bias True\n",
      "encoder.layer.0.output.LayerNorm.weight True\n",
      "encoder.layer.0.output.LayerNorm.bias True\n",
      "encoder.layer.1.attention.self.query.weight True\n",
      "encoder.layer.1.attention.self.query.bias True\n",
      "encoder.layer.1.attention.self.key.weight True\n",
      "encoder.layer.1.attention.self.key.bias True\n",
      "encoder.layer.1.attention.self.value.weight True\n",
      "encoder.layer.1.attention.self.value.bias True\n",
      "encoder.layer.1.attention.output.dense.weight True\n",
      "encoder.layer.1.attention.output.dense.bias True\n",
      "encoder.layer.1.attention.output.LayerNorm.weight True\n",
      "encoder.layer.1.attention.output.LayerNorm.bias True\n",
      "encoder.layer.1.intermediate.dense.weight True\n",
      "encoder.layer.1.intermediate.dense.bias True\n",
      "encoder.layer.1.output.dense.weight True\n",
      "encoder.layer.1.output.dense.bias True\n",
      "encoder.layer.1.output.LayerNorm.weight True\n",
      "encoder.layer.1.output.LayerNorm.bias True\n",
      "encoder.layer.2.attention.self.query.weight True\n",
      "encoder.layer.2.attention.self.query.bias True\n",
      "encoder.layer.2.attention.self.key.weight True\n",
      "encoder.layer.2.attention.self.key.bias True\n",
      "encoder.layer.2.attention.self.value.weight True\n",
      "encoder.layer.2.attention.self.value.bias True\n",
      "encoder.layer.2.attention.output.dense.weight True\n",
      "encoder.layer.2.attention.output.dense.bias True\n",
      "encoder.layer.2.attention.output.LayerNorm.weight True\n",
      "encoder.layer.2.attention.output.LayerNorm.bias True\n",
      "encoder.layer.2.intermediate.dense.weight True\n",
      "encoder.layer.2.intermediate.dense.bias True\n",
      "encoder.layer.2.output.dense.weight True\n",
      "encoder.layer.2.output.dense.bias True\n",
      "encoder.layer.2.output.LayerNorm.weight True\n",
      "encoder.layer.2.output.LayerNorm.bias True\n",
      "encoder.layer.3.attention.self.query.weight True\n",
      "encoder.layer.3.attention.self.query.bias True\n",
      "encoder.layer.3.attention.self.key.weight True\n",
      "encoder.layer.3.attention.self.key.bias True\n",
      "encoder.layer.3.attention.self.value.weight True\n",
      "encoder.layer.3.attention.self.value.bias True\n",
      "encoder.layer.3.attention.output.dense.weight True\n",
      "encoder.layer.3.attention.output.dense.bias True\n",
      "encoder.layer.3.attention.output.LayerNorm.weight True\n",
      "encoder.layer.3.attention.output.LayerNorm.bias True\n",
      "encoder.layer.3.intermediate.dense.weight True\n",
      "encoder.layer.3.intermediate.dense.bias True\n",
      "encoder.layer.3.output.dense.weight True\n",
      "encoder.layer.3.output.dense.bias True\n",
      "encoder.layer.3.output.LayerNorm.weight True\n",
      "encoder.layer.3.output.LayerNorm.bias True\n",
      "encoder.layer.4.attention.self.query.weight True\n",
      "encoder.layer.4.attention.self.query.bias True\n",
      "encoder.layer.4.attention.self.key.weight True\n",
      "encoder.layer.4.attention.self.key.bias True\n",
      "encoder.layer.4.attention.self.value.weight True\n",
      "encoder.layer.4.attention.self.value.bias True\n",
      "encoder.layer.4.attention.output.dense.weight True\n",
      "encoder.layer.4.attention.output.dense.bias True\n",
      "encoder.layer.4.attention.output.LayerNorm.weight True\n",
      "encoder.layer.4.attention.output.LayerNorm.bias True\n",
      "encoder.layer.4.intermediate.dense.weight True\n",
      "encoder.layer.4.intermediate.dense.bias True\n",
      "encoder.layer.4.output.dense.weight True\n",
      "encoder.layer.4.output.dense.bias True\n",
      "encoder.layer.4.output.LayerNorm.weight True\n",
      "encoder.layer.4.output.LayerNorm.bias True\n",
      "encoder.layer.5.attention.self.query.weight True\n",
      "encoder.layer.5.attention.self.query.bias True\n",
      "encoder.layer.5.attention.self.key.weight True\n",
      "encoder.layer.5.attention.self.key.bias True\n",
      "encoder.layer.5.attention.self.value.weight True\n",
      "encoder.layer.5.attention.self.value.bias True\n",
      "encoder.layer.5.attention.output.dense.weight True\n",
      "encoder.layer.5.attention.output.dense.bias True\n",
      "encoder.layer.5.attention.output.LayerNorm.weight True\n",
      "encoder.layer.5.attention.output.LayerNorm.bias True\n",
      "encoder.layer.5.intermediate.dense.weight True\n",
      "encoder.layer.5.intermediate.dense.bias True\n",
      "encoder.layer.5.output.dense.weight True\n",
      "encoder.layer.5.output.dense.bias True\n",
      "encoder.layer.5.output.LayerNorm.weight True\n",
      "encoder.layer.5.output.LayerNorm.bias True\n",
      "encoder.layer.6.attention.self.query.weight True\n",
      "encoder.layer.6.attention.self.query.bias True\n",
      "encoder.layer.6.attention.self.key.weight True\n",
      "encoder.layer.6.attention.self.key.bias True\n",
      "encoder.layer.6.attention.self.value.weight True\n",
      "encoder.layer.6.attention.self.value.bias True\n",
      "encoder.layer.6.attention.output.dense.weight True\n",
      "encoder.layer.6.attention.output.dense.bias True\n",
      "encoder.layer.6.attention.output.LayerNorm.weight True\n",
      "encoder.layer.6.attention.output.LayerNorm.bias True\n",
      "encoder.layer.6.intermediate.dense.weight True\n",
      "encoder.layer.6.intermediate.dense.bias True\n",
      "encoder.layer.6.output.dense.weight True\n",
      "encoder.layer.6.output.dense.bias True\n",
      "encoder.layer.6.output.LayerNorm.weight True\n",
      "encoder.layer.6.output.LayerNorm.bias True\n",
      "encoder.layer.7.attention.self.query.weight True\n",
      "encoder.layer.7.attention.self.query.bias True\n",
      "encoder.layer.7.attention.self.key.weight True\n",
      "encoder.layer.7.attention.self.key.bias True\n",
      "encoder.layer.7.attention.self.value.weight True\n",
      "encoder.layer.7.attention.self.value.bias True\n",
      "encoder.layer.7.attention.output.dense.weight True\n",
      "encoder.layer.7.attention.output.dense.bias True\n",
      "encoder.layer.7.attention.output.LayerNorm.weight True\n",
      "encoder.layer.7.attention.output.LayerNorm.bias True\n",
      "encoder.layer.7.intermediate.dense.weight True\n",
      "encoder.layer.7.intermediate.dense.bias True\n",
      "encoder.layer.7.output.dense.weight True\n",
      "encoder.layer.7.output.dense.bias True\n",
      "encoder.layer.7.output.LayerNorm.weight True\n",
      "encoder.layer.7.output.LayerNorm.bias True\n",
      "encoder.layer.8.attention.self.query.weight True\n",
      "encoder.layer.8.attention.self.query.bias True\n",
      "encoder.layer.8.attention.self.key.weight True\n",
      "encoder.layer.8.attention.self.key.bias True\n",
      "encoder.layer.8.attention.self.value.weight True\n",
      "encoder.layer.8.attention.self.value.bias True\n",
      "encoder.layer.8.attention.output.dense.weight True\n",
      "encoder.layer.8.attention.output.dense.bias True\n",
      "encoder.layer.8.attention.output.LayerNorm.weight True\n",
      "encoder.layer.8.attention.output.LayerNorm.bias True\n",
      "encoder.layer.8.intermediate.dense.weight True\n",
      "encoder.layer.8.intermediate.dense.bias True\n",
      "encoder.layer.8.output.dense.weight True\n",
      "encoder.layer.8.output.dense.bias True\n",
      "encoder.layer.8.output.LayerNorm.weight True\n",
      "encoder.layer.8.output.LayerNorm.bias True\n",
      "encoder.layer.9.attention.self.query.weight True\n",
      "encoder.layer.9.attention.self.query.bias True\n",
      "encoder.layer.9.attention.self.key.weight True\n",
      "encoder.layer.9.attention.self.key.bias True\n",
      "encoder.layer.9.attention.self.value.weight True\n",
      "encoder.layer.9.attention.self.value.bias True\n",
      "encoder.layer.9.attention.output.dense.weight True\n",
      "encoder.layer.9.attention.output.dense.bias True\n",
      "encoder.layer.9.attention.output.LayerNorm.weight True\n",
      "encoder.layer.9.attention.output.LayerNorm.bias True\n",
      "encoder.layer.9.intermediate.dense.weight True\n",
      "encoder.layer.9.intermediate.dense.bias True\n",
      "encoder.layer.9.output.dense.weight True\n",
      "encoder.layer.9.output.dense.bias True\n",
      "encoder.layer.9.output.LayerNorm.weight True\n",
      "encoder.layer.9.output.LayerNorm.bias True\n",
      "encoder.layer.10.attention.self.query.weight True\n",
      "encoder.layer.10.attention.self.query.bias True\n",
      "encoder.layer.10.attention.self.key.weight True\n",
      "encoder.layer.10.attention.self.key.bias True\n",
      "encoder.layer.10.attention.self.value.weight True\n",
      "encoder.layer.10.attention.self.value.bias True\n",
      "encoder.layer.10.attention.output.dense.weight True\n",
      "encoder.layer.10.attention.output.dense.bias True\n",
      "encoder.layer.10.attention.output.LayerNorm.weight True\n",
      "encoder.layer.10.attention.output.LayerNorm.bias True\n",
      "encoder.layer.10.intermediate.dense.weight True\n",
      "encoder.layer.10.intermediate.dense.bias True\n",
      "encoder.layer.10.output.dense.weight True\n",
      "encoder.layer.10.output.dense.bias True\n",
      "encoder.layer.10.output.LayerNorm.weight True\n",
      "encoder.layer.10.output.LayerNorm.bias True\n",
      "encoder.layer.11.attention.self.query.weight True\n",
      "encoder.layer.11.attention.self.query.bias True\n",
      "encoder.layer.11.attention.self.key.weight True\n",
      "encoder.layer.11.attention.self.key.bias True\n",
      "encoder.layer.11.attention.self.value.weight True\n",
      "encoder.layer.11.attention.self.value.bias True\n",
      "encoder.layer.11.attention.output.dense.weight True\n",
      "encoder.layer.11.attention.output.dense.bias True\n",
      "encoder.layer.11.attention.output.LayerNorm.weight True\n",
      "encoder.layer.11.attention.output.LayerNorm.bias True\n",
      "encoder.layer.11.intermediate.dense.weight True\n",
      "encoder.layer.11.intermediate.dense.bias True\n",
      "encoder.layer.11.output.dense.weight True\n",
      "encoder.layer.11.output.dense.bias True\n",
      "encoder.layer.11.output.LayerNorm.weight True\n",
      "encoder.layer.11.output.LayerNorm.bias True\n",
      "pooler.dense.weight True\n",
      "pooler.dense.bias True\n"
     ]
    }
   ],
   "execution_count": 7
  },
  {
   "metadata": {
    "ExecuteTime": {
     "end_time": "2025-10-28T19:56:28.162226Z",
     "start_time": "2025-10-28T19:56:28.155218Z"
    }
   },
   "cell_type": "code",
   "source": [
    "# Freeze the base model layers if you donot have enough resources\n",
    "for name, param in model.base_model.named_parameters():\n",
    "    param.requires_grad = False\n",
    "\n",
    "# Unfreese the base model pooling layers\n",
    "for name, param in model.base_model.named_parameters():\n",
    "    if 'pooler' in name:\n",
    "        param.requires_grad = True"
   ],
   "id": "7dabc3654e6dfcf9",
   "outputs": [],
   "execution_count": 8
  },
  {
   "metadata": {
    "ExecuteTime": {
     "end_time": "2025-10-28T19:57:23.572332Z",
     "start_time": "2025-10-28T19:57:23.565333Z"
    }
   },
   "cell_type": "code",
   "source": [
    "# Now we print the layers to cross check\n",
    "for name, param in model.base_model.named_parameters():\n",
    "    print(name, param.requires_grad)"
   ],
   "id": "ca7ecd73361482c",
   "outputs": [
    {
     "name": "stdout",
     "output_type": "stream",
     "text": [
      "embeddings.word_embeddings.weight False\n",
      "embeddings.position_embeddings.weight False\n",
      "embeddings.token_type_embeddings.weight False\n",
      "embeddings.LayerNorm.weight False\n",
      "embeddings.LayerNorm.bias False\n",
      "encoder.layer.0.attention.self.query.weight False\n",
      "encoder.layer.0.attention.self.query.bias False\n",
      "encoder.layer.0.attention.self.key.weight False\n",
      "encoder.layer.0.attention.self.key.bias False\n",
      "encoder.layer.0.attention.self.value.weight False\n",
      "encoder.layer.0.attention.self.value.bias False\n",
      "encoder.layer.0.attention.output.dense.weight False\n",
      "encoder.layer.0.attention.output.dense.bias False\n",
      "encoder.layer.0.attention.output.LayerNorm.weight False\n",
      "encoder.layer.0.attention.output.LayerNorm.bias False\n",
      "encoder.layer.0.intermediate.dense.weight False\n",
      "encoder.layer.0.intermediate.dense.bias False\n",
      "encoder.layer.0.output.dense.weight False\n",
      "encoder.layer.0.output.dense.bias False\n",
      "encoder.layer.0.output.LayerNorm.weight False\n",
      "encoder.layer.0.output.LayerNorm.bias False\n",
      "encoder.layer.1.attention.self.query.weight False\n",
      "encoder.layer.1.attention.self.query.bias False\n",
      "encoder.layer.1.attention.self.key.weight False\n",
      "encoder.layer.1.attention.self.key.bias False\n",
      "encoder.layer.1.attention.self.value.weight False\n",
      "encoder.layer.1.attention.self.value.bias False\n",
      "encoder.layer.1.attention.output.dense.weight False\n",
      "encoder.layer.1.attention.output.dense.bias False\n",
      "encoder.layer.1.attention.output.LayerNorm.weight False\n",
      "encoder.layer.1.attention.output.LayerNorm.bias False\n",
      "encoder.layer.1.intermediate.dense.weight False\n",
      "encoder.layer.1.intermediate.dense.bias False\n",
      "encoder.layer.1.output.dense.weight False\n",
      "encoder.layer.1.output.dense.bias False\n",
      "encoder.layer.1.output.LayerNorm.weight False\n",
      "encoder.layer.1.output.LayerNorm.bias False\n",
      "encoder.layer.2.attention.self.query.weight False\n",
      "encoder.layer.2.attention.self.query.bias False\n",
      "encoder.layer.2.attention.self.key.weight False\n",
      "encoder.layer.2.attention.self.key.bias False\n",
      "encoder.layer.2.attention.self.value.weight False\n",
      "encoder.layer.2.attention.self.value.bias False\n",
      "encoder.layer.2.attention.output.dense.weight False\n",
      "encoder.layer.2.attention.output.dense.bias False\n",
      "encoder.layer.2.attention.output.LayerNorm.weight False\n",
      "encoder.layer.2.attention.output.LayerNorm.bias False\n",
      "encoder.layer.2.intermediate.dense.weight False\n",
      "encoder.layer.2.intermediate.dense.bias False\n",
      "encoder.layer.2.output.dense.weight False\n",
      "encoder.layer.2.output.dense.bias False\n",
      "encoder.layer.2.output.LayerNorm.weight False\n",
      "encoder.layer.2.output.LayerNorm.bias False\n",
      "encoder.layer.3.attention.self.query.weight False\n",
      "encoder.layer.3.attention.self.query.bias False\n",
      "encoder.layer.3.attention.self.key.weight False\n",
      "encoder.layer.3.attention.self.key.bias False\n",
      "encoder.layer.3.attention.self.value.weight False\n",
      "encoder.layer.3.attention.self.value.bias False\n",
      "encoder.layer.3.attention.output.dense.weight False\n",
      "encoder.layer.3.attention.output.dense.bias False\n",
      "encoder.layer.3.attention.output.LayerNorm.weight False\n",
      "encoder.layer.3.attention.output.LayerNorm.bias False\n",
      "encoder.layer.3.intermediate.dense.weight False\n",
      "encoder.layer.3.intermediate.dense.bias False\n",
      "encoder.layer.3.output.dense.weight False\n",
      "encoder.layer.3.output.dense.bias False\n",
      "encoder.layer.3.output.LayerNorm.weight False\n",
      "encoder.layer.3.output.LayerNorm.bias False\n",
      "encoder.layer.4.attention.self.query.weight False\n",
      "encoder.layer.4.attention.self.query.bias False\n",
      "encoder.layer.4.attention.self.key.weight False\n",
      "encoder.layer.4.attention.self.key.bias False\n",
      "encoder.layer.4.attention.self.value.weight False\n",
      "encoder.layer.4.attention.self.value.bias False\n",
      "encoder.layer.4.attention.output.dense.weight False\n",
      "encoder.layer.4.attention.output.dense.bias False\n",
      "encoder.layer.4.attention.output.LayerNorm.weight False\n",
      "encoder.layer.4.attention.output.LayerNorm.bias False\n",
      "encoder.layer.4.intermediate.dense.weight False\n",
      "encoder.layer.4.intermediate.dense.bias False\n",
      "encoder.layer.4.output.dense.weight False\n",
      "encoder.layer.4.output.dense.bias False\n",
      "encoder.layer.4.output.LayerNorm.weight False\n",
      "encoder.layer.4.output.LayerNorm.bias False\n",
      "encoder.layer.5.attention.self.query.weight False\n",
      "encoder.layer.5.attention.self.query.bias False\n",
      "encoder.layer.5.attention.self.key.weight False\n",
      "encoder.layer.5.attention.self.key.bias False\n",
      "encoder.layer.5.attention.self.value.weight False\n",
      "encoder.layer.5.attention.self.value.bias False\n",
      "encoder.layer.5.attention.output.dense.weight False\n",
      "encoder.layer.5.attention.output.dense.bias False\n",
      "encoder.layer.5.attention.output.LayerNorm.weight False\n",
      "encoder.layer.5.attention.output.LayerNorm.bias False\n",
      "encoder.layer.5.intermediate.dense.weight False\n",
      "encoder.layer.5.intermediate.dense.bias False\n",
      "encoder.layer.5.output.dense.weight False\n",
      "encoder.layer.5.output.dense.bias False\n",
      "encoder.layer.5.output.LayerNorm.weight False\n",
      "encoder.layer.5.output.LayerNorm.bias False\n",
      "encoder.layer.6.attention.self.query.weight False\n",
      "encoder.layer.6.attention.self.query.bias False\n",
      "encoder.layer.6.attention.self.key.weight False\n",
      "encoder.layer.6.attention.self.key.bias False\n",
      "encoder.layer.6.attention.self.value.weight False\n",
      "encoder.layer.6.attention.self.value.bias False\n",
      "encoder.layer.6.attention.output.dense.weight False\n",
      "encoder.layer.6.attention.output.dense.bias False\n",
      "encoder.layer.6.attention.output.LayerNorm.weight False\n",
      "encoder.layer.6.attention.output.LayerNorm.bias False\n",
      "encoder.layer.6.intermediate.dense.weight False\n",
      "encoder.layer.6.intermediate.dense.bias False\n",
      "encoder.layer.6.output.dense.weight False\n",
      "encoder.layer.6.output.dense.bias False\n",
      "encoder.layer.6.output.LayerNorm.weight False\n",
      "encoder.layer.6.output.LayerNorm.bias False\n",
      "encoder.layer.7.attention.self.query.weight False\n",
      "encoder.layer.7.attention.self.query.bias False\n",
      "encoder.layer.7.attention.self.key.weight False\n",
      "encoder.layer.7.attention.self.key.bias False\n",
      "encoder.layer.7.attention.self.value.weight False\n",
      "encoder.layer.7.attention.self.value.bias False\n",
      "encoder.layer.7.attention.output.dense.weight False\n",
      "encoder.layer.7.attention.output.dense.bias False\n",
      "encoder.layer.7.attention.output.LayerNorm.weight False\n",
      "encoder.layer.7.attention.output.LayerNorm.bias False\n",
      "encoder.layer.7.intermediate.dense.weight False\n",
      "encoder.layer.7.intermediate.dense.bias False\n",
      "encoder.layer.7.output.dense.weight False\n",
      "encoder.layer.7.output.dense.bias False\n",
      "encoder.layer.7.output.LayerNorm.weight False\n",
      "encoder.layer.7.output.LayerNorm.bias False\n",
      "encoder.layer.8.attention.self.query.weight False\n",
      "encoder.layer.8.attention.self.query.bias False\n",
      "encoder.layer.8.attention.self.key.weight False\n",
      "encoder.layer.8.attention.self.key.bias False\n",
      "encoder.layer.8.attention.self.value.weight False\n",
      "encoder.layer.8.attention.self.value.bias False\n",
      "encoder.layer.8.attention.output.dense.weight False\n",
      "encoder.layer.8.attention.output.dense.bias False\n",
      "encoder.layer.8.attention.output.LayerNorm.weight False\n",
      "encoder.layer.8.attention.output.LayerNorm.bias False\n",
      "encoder.layer.8.intermediate.dense.weight False\n",
      "encoder.layer.8.intermediate.dense.bias False\n",
      "encoder.layer.8.output.dense.weight False\n",
      "encoder.layer.8.output.dense.bias False\n",
      "encoder.layer.8.output.LayerNorm.weight False\n",
      "encoder.layer.8.output.LayerNorm.bias False\n",
      "encoder.layer.9.attention.self.query.weight False\n",
      "encoder.layer.9.attention.self.query.bias False\n",
      "encoder.layer.9.attention.self.key.weight False\n",
      "encoder.layer.9.attention.self.key.bias False\n",
      "encoder.layer.9.attention.self.value.weight False\n",
      "encoder.layer.9.attention.self.value.bias False\n",
      "encoder.layer.9.attention.output.dense.weight False\n",
      "encoder.layer.9.attention.output.dense.bias False\n",
      "encoder.layer.9.attention.output.LayerNorm.weight False\n",
      "encoder.layer.9.attention.output.LayerNorm.bias False\n",
      "encoder.layer.9.intermediate.dense.weight False\n",
      "encoder.layer.9.intermediate.dense.bias False\n",
      "encoder.layer.9.output.dense.weight False\n",
      "encoder.layer.9.output.dense.bias False\n",
      "encoder.layer.9.output.LayerNorm.weight False\n",
      "encoder.layer.9.output.LayerNorm.bias False\n",
      "encoder.layer.10.attention.self.query.weight False\n",
      "encoder.layer.10.attention.self.query.bias False\n",
      "encoder.layer.10.attention.self.key.weight False\n",
      "encoder.layer.10.attention.self.key.bias False\n",
      "encoder.layer.10.attention.self.value.weight False\n",
      "encoder.layer.10.attention.self.value.bias False\n",
      "encoder.layer.10.attention.output.dense.weight False\n",
      "encoder.layer.10.attention.output.dense.bias False\n",
      "encoder.layer.10.attention.output.LayerNorm.weight False\n",
      "encoder.layer.10.attention.output.LayerNorm.bias False\n",
      "encoder.layer.10.intermediate.dense.weight False\n",
      "encoder.layer.10.intermediate.dense.bias False\n",
      "encoder.layer.10.output.dense.weight False\n",
      "encoder.layer.10.output.dense.bias False\n",
      "encoder.layer.10.output.LayerNorm.weight False\n",
      "encoder.layer.10.output.LayerNorm.bias False\n",
      "encoder.layer.11.attention.self.query.weight False\n",
      "encoder.layer.11.attention.self.query.bias False\n",
      "encoder.layer.11.attention.self.key.weight False\n",
      "encoder.layer.11.attention.self.key.bias False\n",
      "encoder.layer.11.attention.self.value.weight False\n",
      "encoder.layer.11.attention.self.value.bias False\n",
      "encoder.layer.11.attention.output.dense.weight False\n",
      "encoder.layer.11.attention.output.dense.bias False\n",
      "encoder.layer.11.attention.output.LayerNorm.weight False\n",
      "encoder.layer.11.attention.output.LayerNorm.bias False\n",
      "encoder.layer.11.intermediate.dense.weight False\n",
      "encoder.layer.11.intermediate.dense.bias False\n",
      "encoder.layer.11.output.dense.weight False\n",
      "encoder.layer.11.output.dense.bias False\n",
      "encoder.layer.11.output.LayerNorm.weight False\n",
      "encoder.layer.11.output.LayerNorm.bias False\n",
      "pooler.dense.weight True\n",
      "pooler.dense.bias True\n"
     ]
    }
   ],
   "execution_count": 9
  },
  {
   "metadata": {
    "ExecuteTime": {
     "end_time": "2025-10-28T19:58:48.229461Z",
     "start_time": "2025-10-28T19:58:48.225461Z"
    }
   },
   "cell_type": "code",
   "source": [
    "# text_preprocessing function\n",
    "def preprocessing_function(sentences):\n",
    "    return tokenizer(sentences['text'], truncation = True)"
   ],
   "id": "6244af473e15750",
   "outputs": [],
   "execution_count": 10
  },
  {
   "metadata": {
    "ExecuteTime": {
     "end_time": "2025-10-28T19:59:18.592191Z",
     "start_time": "2025-10-28T19:59:18.363633Z"
    }
   },
   "cell_type": "code",
   "source": [
    "# Now we tokenize the dataset\n",
    "tokenized_dataset = dataset.map(preprocessing_function, batched=True)"
   ],
   "id": "c780d9c6ed1a1629",
   "outputs": [
    {
     "data": {
      "text/plain": [
       "Map:   0%|          | 0/2100 [00:00<?, ? examples/s]"
      ],
      "application/vnd.jupyter.widget-view+json": {
       "version_major": 2,
       "version_minor": 0,
       "model_id": "db15b1288d734ceea90af8a7968871ad"
      }
     },
     "metadata": {},
     "output_type": "display_data",
     "jetTransient": {
      "display_id": null
     }
    },
    {
     "data": {
      "text/plain": [
       "Map:   0%|          | 0/450 [00:00<?, ? examples/s]"
      ],
      "application/vnd.jupyter.widget-view+json": {
       "version_major": 2,
       "version_minor": 0,
       "model_id": "9bc00b4e11e545d389063407b81773b0"
      }
     },
     "metadata": {},
     "output_type": "display_data",
     "jetTransient": {
      "display_id": null
     }
    },
    {
     "data": {
      "text/plain": [
       "Map:   0%|          | 0/450 [00:00<?, ? examples/s]"
      ],
      "application/vnd.jupyter.widget-view+json": {
       "version_major": 2,
       "version_minor": 0,
       "model_id": "f5bb1c44266e466eab4cfbd277be6eb0"
      }
     },
     "metadata": {},
     "output_type": "display_data",
     "jetTransient": {
      "display_id": null
     }
    }
   ],
   "execution_count": 11
  },
  {
   "metadata": {
    "ExecuteTime": {
     "end_time": "2025-10-28T19:59:40.323197Z",
     "start_time": "2025-10-28T19:59:40.319120Z"
    }
   },
   "cell_type": "code",
   "source": [
    "# here we create a data collator\n",
    "data_collator = DataCollatorWithPadding(tokenizer=tokenizer)"
   ],
   "id": "c6a7dfbc3bbe6a0f",
   "outputs": [],
   "execution_count": 12
  },
  {
   "metadata": {
    "ExecuteTime": {
     "end_time": "2025-10-28T20:21:12.400753Z",
     "start_time": "2025-10-28T20:21:06.533422Z"
    }
   },
   "cell_type": "code",
   "source": [
    "# Evaluation metrics for the model\n",
    "accuracy = evaluate.load('accuracy')\n",
    "auc_score = evaluate.load('roc_auc')\n",
    "\n",
    "def compute_metrics(eval_pred):\n",
    "    # Get Predicitons\n",
    "    predictions, labels = eval_pred\n",
    "    # applying sotmax to get the probabilities\n",
    "    probabilities = np.exp(predictions)/np.exp(predictions).sum(-1,keepdims=True)\n",
    "    # using above probabilities of positive class for AUC_ROC calculation\n",
    "    positive_class_probabilities = probabilities[:,1]\n",
    "    # Compute the AUC\n",
    "    auc = np.round(auc_score.compute(prediction_scores = positive_class_probabilities, references = labels)['roc_auc'],3)\n",
    "    # predict most probable class\n",
    "    predicted_class = np.argmax(predictions, axis = 1)\n",
    "    # compute Accuracy\n",
    "    accu= np.round(accuracy.compute(predictions = predicted_class, references = labels)['accuracy'],3)\n",
    "    return {'Accuracy':accu, 'AUC':auc}"
   ],
   "id": "a250fe10c17a5b97",
   "outputs": [],
   "execution_count": 24
  },
  {
   "metadata": {},
   "cell_type": "markdown",
   "source": "# Train the Model",
   "id": "367877ee10afc31f"
  },
  {
   "metadata": {
    "ExecuteTime": {
     "end_time": "2025-10-28T20:17:48.030073Z",
     "start_time": "2025-10-28T20:17:47.974001Z"
    }
   },
   "cell_type": "code",
   "source": [
    "# HyperParmeters\n",
    "learning_rate = 2e-4\n",
    "batch_size = 8\n",
    "num_epochs = 10\n",
    "\n",
    "training_args = TrainingArguments(\n",
    "    output_dir = 'Phishing_URL_Detection_BERT',\n",
    "    learning_rate = learning_rate,\n",
    "    per_device_train_batch_size = batch_size,\n",
    "    per_device_eval_batch_size = batch_size,\n",
    "    num_train_epochs = num_epochs,\n",
    "    logging_strategy = 'epoch',\n",
    "    eval_strategy='epoch',\n",
    "    save_strategy = 'epoch',\n",
    "    load_best_model_at_end = True\n",
    ")"
   ],
   "id": "df96c5f07705dc9e",
   "outputs": [],
   "execution_count": 21
  },
  {
   "metadata": {
    "ExecuteTime": {
     "end_time": "2025-10-28T20:17:49.145262Z",
     "start_time": "2025-10-28T20:17:49.122195Z"
    }
   },
   "cell_type": "code",
   "source": [
    "trainer = Trainer(\n",
    "    model = model,\n",
    "    args = training_args,\n",
    "    compute_metrics = compute_metrics,\n",
    "    train_dataset = tokenized_dataset['train'],\n",
    "    eval_dataset= tokenized_dataset['test'],\n",
    "    tokenizer = tokenizer,\n",
    "    data_collator = data_collator\n",
    ")"
   ],
   "id": "af11fa53902582e5",
   "outputs": [
    {
     "name": "stderr",
     "output_type": "stream",
     "text": [
      "C:\\Users\\Dawood Khan\\AppData\\Local\\Temp\\ipykernel_16240\\273788804.py:1: FutureWarning: `tokenizer` is deprecated and will be removed in version 5.0.0 for `Trainer.__init__`. Use `processing_class` instead.\n",
      "  trainer = Trainer(\n"
     ]
    }
   ],
   "execution_count": 22
  },
  {
   "metadata": {
    "ExecuteTime": {
     "end_time": "2025-10-28T20:19:16.740237Z",
     "start_time": "2025-10-28T20:17:50.013872Z"
    }
   },
   "cell_type": "code",
   "source": "trainer.train()",
   "id": "3bd94deea81489d2",
   "outputs": [
    {
     "data": {
      "text/plain": [
       "<IPython.core.display.HTML object>"
      ],
      "text/html": [
       "\n",
       "    <div>\n",
       "      \n",
       "      <progress value='2630' max='2630' style='width:300px; height:20px; vertical-align: middle;'></progress>\n",
       "      [2630/2630 01:26, Epoch 10/10]\n",
       "    </div>\n",
       "    <table border=\"1\" class=\"dataframe\">\n",
       "  <thead>\n",
       " <tr style=\"text-align: left;\">\n",
       "      <th>Epoch</th>\n",
       "      <th>Training Loss</th>\n",
       "      <th>Validation Loss</th>\n",
       "      <th>Accuracy</th>\n",
       "      <th>Auc</th>\n",
       "    </tr>\n",
       "  </thead>\n",
       "  <tbody>\n",
       "    <tr>\n",
       "      <td>1</td>\n",
       "      <td>0.323700</td>\n",
       "      <td>0.315200</td>\n",
       "      <td>0.844000</td>\n",
       "      <td>0.939000</td>\n",
       "    </tr>\n",
       "    <tr>\n",
       "      <td>2</td>\n",
       "      <td>0.361000</td>\n",
       "      <td>0.316188</td>\n",
       "      <td>0.844000</td>\n",
       "      <td>0.944000</td>\n",
       "    </tr>\n",
       "    <tr>\n",
       "      <td>3</td>\n",
       "      <td>0.363500</td>\n",
       "      <td>0.298108</td>\n",
       "      <td>0.867000</td>\n",
       "      <td>0.949000</td>\n",
       "    </tr>\n",
       "    <tr>\n",
       "      <td>4</td>\n",
       "      <td>0.329400</td>\n",
       "      <td>0.332561</td>\n",
       "      <td>0.878000</td>\n",
       "      <td>0.950000</td>\n",
       "    </tr>\n",
       "    <tr>\n",
       "      <td>5</td>\n",
       "      <td>0.344700</td>\n",
       "      <td>0.293292</td>\n",
       "      <td>0.880000</td>\n",
       "      <td>0.951000</td>\n",
       "    </tr>\n",
       "    <tr>\n",
       "      <td>6</td>\n",
       "      <td>0.322800</td>\n",
       "      <td>0.278022</td>\n",
       "      <td>0.871000</td>\n",
       "      <td>0.955000</td>\n",
       "    </tr>\n",
       "    <tr>\n",
       "      <td>7</td>\n",
       "      <td>0.319900</td>\n",
       "      <td>0.278009</td>\n",
       "      <td>0.880000</td>\n",
       "      <td>0.953000</td>\n",
       "    </tr>\n",
       "    <tr>\n",
       "      <td>8</td>\n",
       "      <td>0.300500</td>\n",
       "      <td>0.277624</td>\n",
       "      <td>0.871000</td>\n",
       "      <td>0.955000</td>\n",
       "    </tr>\n",
       "    <tr>\n",
       "      <td>9</td>\n",
       "      <td>0.335700</td>\n",
       "      <td>0.271542</td>\n",
       "      <td>0.878000</td>\n",
       "      <td>0.956000</td>\n",
       "    </tr>\n",
       "    <tr>\n",
       "      <td>10</td>\n",
       "      <td>0.312200</td>\n",
       "      <td>0.276292</td>\n",
       "      <td>0.876000</td>\n",
       "      <td>0.956000</td>\n",
       "    </tr>\n",
       "  </tbody>\n",
       "</table><p>"
      ]
     },
     "metadata": {},
     "output_type": "display_data",
     "jetTransient": {
      "display_id": "94c1964d54979c50f64eb03c477a4128"
     }
    },
    {
     "data": {
      "text/plain": [
       "TrainOutput(global_step=2630, training_loss=0.3313411495078199, metrics={'train_runtime': 86.5128, 'train_samples_per_second': 242.739, 'train_steps_per_second': 30.4, 'total_flos': 706603239165360.0, 'train_loss': 0.3313411495078199, 'epoch': 10.0})"
      ]
     },
     "execution_count": 23,
     "metadata": {},
     "output_type": "execute_result"
    }
   ],
   "execution_count": 23
  },
  {
   "metadata": {
    "ExecuteTime": {
     "end_time": "2025-10-28T20:21:18.550495Z",
     "start_time": "2025-10-28T20:21:17.173050Z"
    }
   },
   "cell_type": "code",
   "source": [
    "# Now we will apply the model on the validation data\n",
    "predictions = trainer.predict(tokenized_dataset['validation'])\n",
    "# Extracting the logits\n",
    "logits = predictions.predictions\n",
    "labels = predictions.label_ids\n",
    "\n",
    "# Now using the Compute Metrics Function\n",
    "metrics = compute_metrics((logits,labels))\n",
    "print(metrics)"
   ],
   "id": "48542ba1b8203610",
   "outputs": [
    {
     "data": {
      "text/plain": [
       "<IPython.core.display.HTML object>"
      ],
      "text/html": []
     },
     "metadata": {},
     "output_type": "display_data",
     "jetTransient": {
      "display_id": "8e9567af077059309ee679b2c1b1b4bb"
     }
    },
    {
     "name": "stdout",
     "output_type": "stream",
     "text": [
      "{'Accuracy': np.float64(0.882), 'AUC': np.float64(0.948)}\n"
     ]
    }
   ],
   "execution_count": 25
  },
  {
   "metadata": {
    "ExecuteTime": {
     "end_time": "2025-10-28T20:22:02.773503Z",
     "start_time": "2025-10-28T20:22:02.753813Z"
    }
   },
   "cell_type": "code",
   "source": [
    "from huggingface_hub import notebook_login\n",
    "notebook_login()"
   ],
   "id": "21b423610a756974",
   "outputs": [
    {
     "data": {
      "text/plain": [
       "VBox(children=(HTML(value='<center> <img\\nsrc=https://huggingface.co/front/assets/huggingface_logo-noborder.sv…"
      ],
      "application/vnd.jupyter.widget-view+json": {
       "version_major": 2,
       "version_minor": 0,
       "model_id": "55ffeb04ad23413fba561c357d275e34"
      }
     },
     "metadata": {},
     "output_type": "display_data",
     "jetTransient": {
      "display_id": null
     }
    }
   ],
   "execution_count": 26
  },
  {
   "metadata": {
    "ExecuteTime": {
     "end_time": "2025-10-28T20:26:06.067206Z",
     "start_time": "2025-10-28T20:24:33.689375Z"
    }
   },
   "cell_type": "code",
   "source": "trainer.push_to_hub()",
   "id": "1bf8cb408ff22326",
   "outputs": [
    {
     "data": {
      "text/plain": [
       "Processing Files (0 / 0): |          |  0.00B /  0.00B            "
      ],
      "application/vnd.jupyter.widget-view+json": {
       "version_major": 2,
       "version_minor": 0,
       "model_id": "941214ffcb304c9aa147487f7513ecfc"
      }
     },
     "metadata": {},
     "output_type": "display_data",
     "jetTransient": {
      "display_id": null
     }
    },
    {
     "data": {
      "text/plain": [
       "New Data Upload: |          |  0.00B /  0.00B            "
      ],
      "application/vnd.jupyter.widget-view+json": {
       "version_major": 2,
       "version_minor": 0,
       "model_id": "3488dccf286c4a8c92da0fd43dd22145"
      }
     },
     "metadata": {},
     "output_type": "display_data",
     "jetTransient": {
      "display_id": null
     }
    },
    {
     "data": {
      "text/plain": [
       "CommitInfo(commit_url='https://huggingface.co/Dawood4893723/Phishing_URL_Detection_BERT/commit/588b5f7c25adba6fe722c0f267347d39d7b8e8c0', commit_message='End of training', commit_description='', oid='588b5f7c25adba6fe722c0f267347d39d7b8e8c0', pr_url=None, repo_url=RepoUrl('https://huggingface.co/Dawood4893723/Phishing_URL_Detection_BERT', endpoint='https://huggingface.co', repo_type='model', repo_id='Dawood4893723/Phishing_URL_Detection_BERT'), pr_revision=None, pr_num=None)"
      ]
     },
     "execution_count": 28,
     "metadata": {},
     "output_type": "execute_result"
    }
   ],
   "execution_count": 28
  },
  {
   "metadata": {
    "ExecuteTime": {
     "end_time": "2025-10-28T20:26:45.058969Z",
     "start_time": "2025-10-28T20:26:45.054464Z"
    }
   },
   "cell_type": "code",
   "source": [
    "import torch\n",
    "device = torch.device('cuda' if torch.cuda.is_available() else 'cpu')\n",
    "print(device)"
   ],
   "id": "47b4b8f52fcb7995",
   "outputs": [
    {
     "name": "stdout",
     "output_type": "stream",
     "text": [
      "cuda\n"
     ]
    }
   ],
   "execution_count": 29
  },
  {
   "metadata": {
    "ExecuteTime": {
     "end_time": "2025-10-28T20:26:54.848982Z",
     "start_time": "2025-10-28T20:26:54.841476Z"
    }
   },
   "cell_type": "code",
   "source": "model = model.to(device)",
   "id": "e8c3b6609a9bb63a",
   "outputs": [],
   "execution_count": 30
  },
  {
   "metadata": {
    "ExecuteTime": {
     "end_time": "2025-10-28T20:27:43.892477Z",
     "start_time": "2025-10-28T20:27:43.885881Z"
    }
   },
   "cell_type": "code",
   "source": [
    "input_text = \"000mclogin.micloud-object-storage-xc-cos-static-web-hosting-qny.s3.us-east.cloud-object-storage.appdomain.cloud\"\n",
    "inputs = tokenizer(input_text, return_tensors='pt').to(device)"
   ],
   "id": "947621d2191669a5",
   "outputs": [],
   "execution_count": 31
  },
  {
   "metadata": {
    "ExecuteTime": {
     "end_time": "2025-10-28T20:31:01.417993Z",
     "start_time": "2025-10-28T20:31:01.360039Z"
    }
   },
   "cell_type": "code",
   "source": [
    "with torch.no_grad():\n",
    "    outputs = model(**inputs)\n",
    "    logits = outputs.logits\n",
    "    predictions = torch.argmax(logits, dim = -1)\n",
    "\n",
    "# predictions is a tensor of class indices\n",
    "predicted_ids = predictions.cpu().numpy()  # convert tensor to numpy array if on GPU\n",
    "predict_labels = [model.config.id2label[i] for i in predicted_ids]\n",
    "\n",
    "print(f'Predicted label: {predict_labels}')"
   ],
   "id": "d13e5dbf18758d5b",
   "outputs": [
    {
     "name": "stdout",
     "output_type": "stream",
     "text": [
      "Predicted label: ['Not Safe']\n"
     ]
    }
   ],
   "execution_count": 35
  },
  {
   "metadata": {},
   "cell_type": "code",
   "outputs": [],
   "execution_count": null,
   "source": "",
   "id": "286d3f20ba54700b"
  }
 ],
 "metadata": {
  "kernelspec": {
   "display_name": "Python 3",
   "language": "python",
   "name": "python3"
  },
  "language_info": {
   "codemirror_mode": {
    "name": "ipython",
    "version": 2
   },
   "file_extension": ".py",
   "mimetype": "text/x-python",
   "name": "python",
   "nbconvert_exporter": "python",
   "pygments_lexer": "ipython2",
   "version": "2.7.6"
  }
 },
 "nbformat": 4,
 "nbformat_minor": 5
}
